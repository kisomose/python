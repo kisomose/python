{
  "nbformat": 4,
  "nbformat_minor": 0,
  "metadata": {
    "colab": {
      "provenance": [],
      "authorship_tag": "ABX9TyO1GqJCY//LtVPuytOg6SlL",
      "include_colab_link": true
    },
    "kernelspec": {
      "name": "python3",
      "display_name": "Python 3"
    },
    "language_info": {
      "name": "python"
    }
  },
  "cells": [
    {
      "cell_type": "markdown",
      "metadata": {
        "id": "view-in-github",
        "colab_type": "text"
      },
      "source": [
        "<a href=\"https://colab.research.google.com/github/kisomose/python/blob/main/pandaSql.ipynb\" target=\"_parent\"><img src=\"https://colab.research.google.com/assets/colab-badge.svg\" alt=\"Open In Colab\"/></a>"
      ]
    },
    {
      "cell_type": "markdown",
      "source": [
        "#PANDASQL"
      ],
      "metadata": {
        "id": "M9RS-Ufne4SN"
      }
    },
    {
      "cell_type": "markdown",
      "source": [
        "iNSTALLING Pandasql"
      ],
      "metadata": {
        "id": "LneTYHLZe-WA"
      }
    },
    {
      "cell_type": "code",
      "execution_count": null,
      "metadata": {
        "colab": {
          "base_uri": "https://localhost:8080/"
        },
        "id": "Mbq8kNaje3Dg",
        "outputId": "a2884545-d5db-459a-f27c-e43d2a12bf3b"
      },
      "outputs": [
        {
          "output_type": "stream",
          "name": "stdout",
          "text": [
            "Looking in indexes: https://pypi.org/simple, https://us-python.pkg.dev/colab-wheels/public/simple/\n",
            "Collecting pandasql\n",
            "  Downloading pandasql-0.7.3.tar.gz (26 kB)\n",
            "Requirement already satisfied: numpy in /usr/local/lib/python3.7/dist-packages (from pandasql) (1.21.6)\n",
            "Requirement already satisfied: pandas in /usr/local/lib/python3.7/dist-packages (from pandasql) (1.3.5)\n",
            "Requirement already satisfied: sqlalchemy in /usr/local/lib/python3.7/dist-packages (from pandasql) (1.4.42)\n",
            "Requirement already satisfied: python-dateutil>=2.7.3 in /usr/local/lib/python3.7/dist-packages (from pandas->pandasql) (2.8.2)\n",
            "Requirement already satisfied: pytz>=2017.3 in /usr/local/lib/python3.7/dist-packages (from pandas->pandasql) (2022.5)\n",
            "Requirement already satisfied: six>=1.5 in /usr/local/lib/python3.7/dist-packages (from python-dateutil>=2.7.3->pandas->pandasql) (1.15.0)\n",
            "Requirement already satisfied: greenlet!=0.4.17 in /usr/local/lib/python3.7/dist-packages (from sqlalchemy->pandasql) (1.1.3.post0)\n",
            "Requirement already satisfied: importlib-metadata in /usr/local/lib/python3.7/dist-packages (from sqlalchemy->pandasql) (4.13.0)\n",
            "Requirement already satisfied: zipp>=0.5 in /usr/local/lib/python3.7/dist-packages (from importlib-metadata->sqlalchemy->pandasql) (3.9.0)\n",
            "Requirement already satisfied: typing-extensions>=3.6.4 in /usr/local/lib/python3.7/dist-packages (from importlib-metadata->sqlalchemy->pandasql) (4.1.1)\n",
            "Building wheels for collected packages: pandasql\n",
            "  Building wheel for pandasql (setup.py) ... \u001b[?25l\u001b[?25hdone\n",
            "  Created wheel for pandasql: filename=pandasql-0.7.3-py3-none-any.whl size=26784 sha256=a8e216011d0b463110ce3335d2a7ed84b1fec78c0e411b0851760154f3ebb73d\n",
            "  Stored in directory: /root/.cache/pip/wheels/5c/4b/ec/41f4e116c8053c3654e2c2a47c62b4fca34cc67ef7b55deb7f\n",
            "Successfully built pandasql\n",
            "Installing collected packages: pandasql\n",
            "Successfully installed pandasql-0.7.3\n"
          ]
        }
      ],
      "source": [
        "!pip install pandasql"
      ]
    },
    {
      "cell_type": "code",
      "source": [
        "import pandas as pd\n",
        "from pandasql import sqldf\n",
        "from pandasql import load_births"
      ],
      "metadata": {
        "id": "41MuQq3gfSvK"
      },
      "execution_count": null,
      "outputs": []
    },
    {
      "cell_type": "code",
      "source": [
        "#loading dataset\n",
        "births = load_births()\n",
        "print(births)"
      ],
      "metadata": {
        "colab": {
          "base_uri": "https://localhost:8080/"
        },
        "id": "lPk3lBubfrR6",
        "outputId": "055aab94-f987-4579-d03b-0184eafaf054"
      },
      "execution_count": null,
      "outputs": [
        {
          "output_type": "stream",
          "name": "stdout",
          "text": [
            "          date  births\n",
            "0   1975-01-01  265775\n",
            "1   1975-02-01  241045\n",
            "2   1975-03-01  268849\n",
            "3   1975-04-01  247455\n",
            "4   1975-05-01  254545\n",
            "..         ...     ...\n",
            "403 2012-08-01  359554\n",
            "404 2012-09-01  361922\n",
            "405 2012-10-01  347625\n",
            "406 2012-11-01  320195\n",
            "407 2012-12-01  340995\n",
            "\n",
            "[408 rows x 2 columns]\n"
          ]
        }
      ]
    },
    {
      "cell_type": "code",
      "source": [
        "#sql in Python"
      ],
      "metadata": {
        "id": "a5_AuLJWf278"
      },
      "execution_count": null,
      "outputs": []
    },
    {
      "cell_type": "code",
      "source": [
        "cmd = \" select * from births where births >300000 limit 5\"\n",
        "print(sqldf(cmd,locals()))"
      ],
      "metadata": {
        "colab": {
          "base_uri": "https://localhost:8080/"
        },
        "id": "HNcXMS5wf0J5",
        "outputId": "d90bd94e-852f-4cf3-b06a-fddd1672ce09"
      },
      "execution_count": null,
      "outputs": [
        {
          "output_type": "stream",
          "name": "stdout",
          "text": [
            "                         date  births\n",
            "0  1979-08-01 00:00:00.000000  302805\n",
            "1  1982-07-01 00:00:00.000000  321836\n",
            "2  1982-08-01 00:00:00.000000  323129\n",
            "3  1982-09-01 00:00:00.000000  320536\n",
            "4  1982-10-01 00:00:00.000000  311312\n"
          ]
        }
      ]
    },
    {
      "cell_type": "markdown",
      "source": [
        "#sql3lite"
      ],
      "metadata": {
        "id": "gyA-jNISgcmb"
      }
    },
    {
      "cell_type": "code",
      "source": [
        "import sqlite3"
      ],
      "metadata": {
        "id": "wSOAl51MgeK7"
      },
      "execution_count": null,
      "outputs": []
    },
    {
      "cell_type": "markdown",
      "source": [
        "loading data"
      ],
      "metadata": {
        "id": "uZ5KTXYNgh-R"
      }
    },
    {
      "cell_type": "code",
      "source": [
        "conn = sqlite3.connect(\"dataset.bd\")\n",
        "print(conn)"
      ],
      "metadata": {
        "colab": {
          "base_uri": "https://localhost:8080/"
        },
        "id": "qLmMJTJigmEm",
        "outputId": "ccc02e15-9a8a-445b-8f50-2931684e266c"
      },
      "execution_count": null,
      "outputs": [
        {
          "output_type": "stream",
          "name": "stdout",
          "text": [
            "<sqlite3.Connection object at 0x7f68fed66b90>\n"
          ]
        }
      ]
    },
    {
      "cell_type": "code",
      "source": [],
      "metadata": {
        "id": "9Ek19TeughBW"
      },
      "execution_count": null,
      "outputs": []
    },
    {
      "cell_type": "code",
      "source": [],
      "metadata": {
        "id": "GoO2MGkKgQMO"
      },
      "execution_count": null,
      "outputs": []
    }
  ]
}